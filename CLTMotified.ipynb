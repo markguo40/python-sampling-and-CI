{
 "cells": [
  {
   "cell_type": "code",
   "execution_count": 23,
   "metadata": {
    "collapsed": false,
    "scrolled": false
   },
   "outputs": [
    {
     "name": "stdout",
     "output_type": "stream",
     "text": [
      "First create a (pseudo)-random distribution.\n",
      "Enter a population size:1000\n",
      "...\n",
      "Here's what the population distribution looks like.\n"
     ]
    },
    {
     "data": {
      "image/png": "[encoded data removed]",
      "text/plain": [
       "<matplotlib.figure.Figure at 0x10be29990>"
      ]
     },
     "metadata": {},
     "output_type": "display_data"
    },
    {
     "name": "stdout",
     "output_type": "stream",
     "text": [
      "The population mean is: 100.021111485\n",
      "The population standard deviation is: 1.94592416161\n",
      "For the second step, enter the size of the samples to draw --with replacement-- from the population distribution, and how many times to repeat this procedure in order to create a distribution of sample means.\n",
      "Enter the sample size:50\n",
      "Enter the number of times to repeat the experiment:100\n",
      "Here's what the sample mean distribution looks like.\n"
     ]
    },
    {
     "data": {
      "image/png": "[encoded data removed]",
      "text/plain": [
       "<matplotlib.figure.Figure at 0x1082148d0>"
      ]
     },
     "metadata": {},
     "output_type": "display_data"
    },
    {
     "name": "stdout",
     "output_type": "stream",
     "text": [
      "The mean of the sample means is: 100.019038137\n",
      "The standard deviation of the sample means is: 0.285638077428\n",
      "The poportion of time when the population mean falls within the confidence intervals is 0.93\n",
      "\n",
      "Perform sampling procedure again? Note that if no, then the population distribution will be lost.\n"
     ]
    },
    {
     "ename": "KeyboardInterrupt",
     "evalue": "",
     "output_type": "error",
     "traceback": [
      "\u001b[0;31m---------------------------------------------------------------------------\u001b[0m",
      "\u001b[0;31mKeyboardInterrupt\u001b[0m                         Traceback (most recent call last)",
      "\u001b[0;32m<ipython-input-23-6c70fdbdf2d4>\u001b[0m in \u001b[0;36m<module>\u001b[0;34m()\u001b[0m\n\u001b[1;32m     78\u001b[0m     \u001b[0msample_procedure\u001b[0m\u001b[0;34m(\u001b[0m\u001b[0mpopulation\u001b[0m\u001b[0;34m)\u001b[0m\u001b[0;34m\u001b[0m\u001b[0m\n\u001b[1;32m     79\u001b[0m     \u001b[0;32mprint\u001b[0m \u001b[0;34m\"Perform sampling procedure again? Note that if no, then the population distribution will be lost.\"\u001b[0m\u001b[0;34m\u001b[0m\u001b[0m\n\u001b[0;32m---> 80\u001b[0;31m     \u001b[0mdecision\u001b[0m \u001b[0;34m=\u001b[0m \u001b[0mraw_input\u001b[0m\u001b[0;34m(\u001b[0m\u001b[0;34m\"Type y or n:\"\u001b[0m\u001b[0;34m)\u001b[0m\u001b[0;34m\u001b[0m\u001b[0m\n\u001b[0m\u001b[1;32m     81\u001b[0m     \u001b[0;32mif\u001b[0m \u001b[0mdecision\u001b[0m \u001b[0;34m==\u001b[0m \u001b[0;34m'n'\u001b[0m\u001b[0;34m:\u001b[0m\u001b[0;34m\u001b[0m\u001b[0m\n\u001b[1;32m     82\u001b[0m         \u001b[0msample_flag\u001b[0m \u001b[0;34m=\u001b[0m \u001b[0mFalse\u001b[0m\u001b[0;34m\u001b[0m\u001b[0m\n",
      "\u001b[0;32m/Library/Frameworks/Python.framework/Versions/2.7/lib/python2.7/site-packages/ipykernel/kernelbase.pyc\u001b[0m in \u001b[0;36mraw_input\u001b[0;34m(self, prompt)\u001b[0m\n\u001b[1;32m    675\u001b[0m             \u001b[0mself\u001b[0m\u001b[0;34m.\u001b[0m\u001b[0m_parent_ident\u001b[0m\u001b[0;34m,\u001b[0m\u001b[0;34m\u001b[0m\u001b[0m\n\u001b[1;32m    676\u001b[0m             \u001b[0mself\u001b[0m\u001b[0;34m.\u001b[0m\u001b[0m_parent_header\u001b[0m\u001b[0;34m,\u001b[0m\u001b[0;34m\u001b[0m\u001b[0m\n\u001b[0;32m--> 677\u001b[0;31m             \u001b[0mpassword\u001b[0m\u001b[0;34m=\u001b[0m\u001b[0mFalse\u001b[0m\u001b[0;34m,\u001b[0m\u001b[0;34m\u001b[0m\u001b[0m\n\u001b[0m\u001b[1;32m    678\u001b[0m         )\n\u001b[1;32m    679\u001b[0m \u001b[0;34m\u001b[0m\u001b[0m\n",
      "\u001b[0;32m/Library/Frameworks/Python.framework/Versions/2.7/lib/python2.7/site-packages/ipykernel/kernelbase.pyc\u001b[0m in \u001b[0;36m_input_request\u001b[0;34m(self, prompt, ident, parent, password)\u001b[0m\n\u001b[1;32m    705\u001b[0m             \u001b[0;32mexcept\u001b[0m \u001b[0mKeyboardInterrupt\u001b[0m\u001b[0;34m:\u001b[0m\u001b[0;34m\u001b[0m\u001b[0m\n\u001b[1;32m    706\u001b[0m                 \u001b[0;31m# re-raise KeyboardInterrupt, to truncate traceback\u001b[0m\u001b[0;34m\u001b[0m\u001b[0;34m\u001b[0m\u001b[0m\n\u001b[0;32m--> 707\u001b[0;31m                 \u001b[0;32mraise\u001b[0m \u001b[0mKeyboardInterrupt\u001b[0m\u001b[0;34m\u001b[0m\u001b[0m\n\u001b[0m\u001b[1;32m    708\u001b[0m             \u001b[0;32melse\u001b[0m\u001b[0;34m:\u001b[0m\u001b[0;34m\u001b[0m\u001b[0m\n\u001b[1;32m    709\u001b[0m                 \u001b[0;32mbreak\u001b[0m\u001b[0;34m\u001b[0m\u001b[0m\n",
      "\u001b[0;31mKeyboardInterrupt\u001b[0m: "
     ]
    }
   ],
   "source": [
    "# Code for exploring the Central Limit Theorem\n",
    "# Need NumPy version 1.7 or greater and Matplotlib version\n",
    "\n",
    "# Uncomment the next line if using IPython for inline plotting\n",
    "# %matplotlib inline\n",
    "\n",
    "import numpy as np\n",
    "import random\n",
    "import matplotlib.pyplot as plt\n",
    "from scipy.stats import norm\n",
    "%matplotlib inline\n",
    "\n",
    "p = 0.1\n",
    "CF = 0.95\n",
    "\n",
    "def create_pop(n, name=None):\n",
    "    # A\n",
    "    if name == None:\n",
    "        distrib = 1000 * np.random.random_sample((n, ))\n",
    "    elif name == 'binomial':\n",
    "        distrib = np.random.binomial(n, p, (n, ))\n",
    "    elif name == 'geometric':\n",
    "        distrib = 1000 * np.random.geometric(p, (n, ))\n",
    "    elif name == 'normal':\n",
    "        distrib = np.random.normal(loc=100, scale=2, size=(n, ))\n",
    "    elif name == 'exponential':\n",
    "        distrib = np.random.exponential(size=(n,))\n",
    "    return distrib\n",
    "\n",
    "def graph_distribution(dist, name):\n",
    "    plt.hist(dist)\n",
    "    plt.title(name)\n",
    "    plt.show()\n",
    "\n",
    "def sample_procedure(dist):\n",
    "    sample_size = int(raw_input(\"Enter the sample size:\"))\n",
    "    sample_repeats = int(raw_input(\"Enter the number of times to repeat the experiment:\"))\n",
    "    sample_means = []\n",
    "    correct = 0\n",
    "    margin_error = norm.ppf((1 - CF) / 2 + CF) * (pop_std / (sample_size ** 0.5))\n",
    "    for _ in range(sample_repeats):        \n",
    "        # B\n",
    "        sample = np.random.choice(dist, (sample_size, ))\n",
    "        this_mean = np.mean(sample)\n",
    "        if this_mean - margin_error <= pop_mean <= this_mean + margin_error:\n",
    "            correct += 1\n",
    "        sample_means.append(this_mean)\n",
    "    \n",
    "    print \"Here's what the sample mean distribution looks like.\"\n",
    "    \n",
    "    plt.hist(sample_means)\n",
    "    plt.title('Sample Means')\n",
    "    plt.show()\n",
    "    \n",
    "    print \"The mean of the sample means is:\", np.mean(sample_means)\n",
    "    print \"The standard deviation of the sample means is:\", np.std(sample_means)\n",
    "    print \"The poportion of time when the population mean\",\\\n",
    "            \"falls within the confidence intervals is\", correct / float(sample_repeats)\n",
    "    print \"\"\n",
    "    \n",
    "#####################################\n",
    "\n",
    "print \"First create a (pseudo)-random distribution.\"\n",
    "population_size = int(raw_input(\"Enter a population size:\"))\n",
    "print \"...\"\n",
    "population = create_pop(population_size, 'normal')\n",
    "\n",
    "print \"Here's what the population distribution looks like.\"\n",
    "graph_distribution(population, 'Population Distribution')\n",
    "pop_mean = np.mean(population) \n",
    "pop_std = np.std(population) \n",
    "print \"The population mean is:\", pop_mean\n",
    "print \"The population standard deviation is:\", pop_std\n",
    "print \"For the second step, enter the size of the samples to draw --with replacement-- from the population distribution, and how many times to repeat this procedure in order to create a distribution of sample means.\"\n",
    "\n",
    "sample_flag = True\n",
    "\n",
    "while sample_flag:\n",
    "    sample_procedure(population)\n",
    "    print \"Perform sampling procedure again? Note that if no, then the population distribution will be lost.\"\n",
    "    decision = raw_input(\"Type y or n:\")\n",
    "    if decision == 'n':\n",
    "        sample_flag = False\n",
    "    else:\n",
    "        print \"Doing procedure again.\"\n",
    "        \n"
   ]
  },
  {
   "cell_type": "code",
   "execution_count": null,
   "metadata": {
    "collapsed": true
   },
   "outputs": [],
   "source": []
  }
 ],
 "metadata": {
  "kernelspec": {
   "display_name": "Python 2",
   "language": "python",
   "name": "python2"
  }
 },
 "nbformat": 4,
 "nbformat_minor": 0
}
